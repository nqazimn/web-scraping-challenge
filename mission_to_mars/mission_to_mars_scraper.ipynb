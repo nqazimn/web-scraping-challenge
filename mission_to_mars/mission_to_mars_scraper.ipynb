{
 "cells": [
  {
   "cell_type": "code",
   "execution_count": 76,
   "metadata": {},
   "outputs": [],
   "source": [
    "import requests\n",
    "from bs4 import BeautifulSoup as bs\n",
    "from splinter import Browser\n",
    "import os\n",
    "import time"
   ]
  },
  {
   "cell_type": "markdown",
   "metadata": {},
   "source": [
    "## 1. Set-up urls to be scraped"
   ]
  },
  {
   "cell_type": "code",
   "execution_count": 2,
   "metadata": {},
   "outputs": [],
   "source": [
    "# Set-up dictionary of all Mars urls to be scraped\n",
    "url_dict = {\"NASA\":\"https://mars.nasa.gov/news/\",\\\n",
    "           \"JPL\":\"https://www.jpl.nasa.gov/spaceimages/?search=&category=Mars\",\\\n",
    "           \"Twitter\":\"https://twitter.com/marswxreport?lang=en\",\\\n",
    "           \"space-facts\":\"https://space-facts.com/mars/\",\\\n",
    "           \"geology\":\"https://astrogeology.usgs.gov/search/results?q=hemisphere+enhanced&k1=target&v1=Mars\"}"
   ]
  },
  {
   "cell_type": "markdown",
   "metadata": {},
   "source": [
    "## 2. Scrape NASA and extract latest news _title_ and _text_"
   ]
  },
  {
   "cell_type": "code",
   "execution_count": 53,
   "metadata": {},
   "outputs": [],
   "source": [
    "response = requests.get(url = url_dict[\"NASA\"])\n",
    "\n",
    "soup = bs(response.text, \"html.parser\")\n",
    "\n",
    "# print(soup.prettify())\n",
    "\n",
    "results = soup.find_all(\"div\", class_ = \"slide\")\n",
    "\n",
    "mars_latest_news = []\n",
    "\n",
    "for result in results:    \n",
    "    try:    \n",
    "        news_title = result.find(\"div\", class_ = \"content_title\").text\n",
    "        news_description = result.find(\"div\", class_ = \"rollover_description_inner\").text\n",
    "\n",
    "        news_dict = {'title':news_title.strip(),\\\n",
    "                    'description':news_description.strip()}\n",
    "\n",
    "        mars_latest_news.append(news_dict)\n",
    "    except AttributeError as e:\n",
    "        print(e)        "
   ]
  },
  {
   "cell_type": "code",
   "execution_count": 64,
   "metadata": {},
   "outputs": [
    {
     "name": "stdout",
     "output_type": "stream",
     "text": [
      "Title: Virginia Middle School Student Earns Honor of Naming NASA's Next Mars Rover\n",
      "Descirption: NASA chose a seventh-grader from Virginia as winner of the agency's \"Name the Rover\" essay contest. Alexander Mather's entry for \"Perseverance\" was voted tops among 28,000 entries.\n",
      "\n",
      "Title: NASA Prepares for Moon and Mars With New Addition to Its Deep Space Network\n",
      "Descirption: Robotic spacecraft will be able to communicate with the dish using radio waves and lasers.\n",
      "\n",
      "Title: NASA Administrator Statement on Moon to Mars Initiative, FY 2021 Budget\n",
      "Descirption: Jim Bridenstine addresses NASA's ambitious plans for the coming years, including Mars Sample Return.\n",
      "\n",
      "Title: NASA's Mars 2020 Rover Closer to Getting Its Name\n",
      "Descirption: 155 students from across the U.S. have been chosen as semifinalists in NASA's essay contest to name the Mars 2020 rover, and see it launch from Cape Canaveral this July.\n",
      "\n",
      "Title: NASA Invites Students to Name Mars 2020 Rover\n",
      "Descirption: Through Nov. 1, K-12 students in the U.S. are encouraged to enter an essay contest to name NASA's next Mars rover.\n",
      "\n",
      "Title: NASA's Curiosity Mars Rover Finds a Clay Cache\n",
      "Descirption: The rover recently drilled two samples, and both showed the highest levels of clay ever found during the mission.\n",
      "\n"
     ]
    }
   ],
   "source": [
    "# Scanity-check\n",
    "for news in mars_latest_news:\n",
    "    print('Title: '+ news['title'])\n",
    "    print('Descirption: '+news['description'])\n",
    "    print(\"\")"
   ]
  },
  {
   "cell_type": "markdown",
   "metadata": {},
   "source": [
    "## 3. Scrape JPL and extract latest Mars featured image (using Splinter)"
   ]
  },
  {
   "cell_type": "code",
   "execution_count": 125,
   "metadata": {},
   "outputs": [],
   "source": [
    "# Initiate the browser and visit JPL page\n",
    "\n",
    "browser = Browser('chrome', headless=False)\n",
    "browser.visit(url_dict['JPL'])\n",
    "\n",
    "# Wait for 30 sec while the page loads\n",
    "time.sleep(30)\n",
    "\n",
    "# scrape the page\n",
    "html = browser.html\n",
    "soup = bs(html, 'html.parser')\n",
    "featured_image = soup.find(\"li\", class_=\"slide\").a['data-fancybox-href']\n",
    "\n",
    "# create full-url to high-res image\n",
    "featured_image_url = url_dict['JPL'].split('/spaceimages')[0]+featured_image_url"
   ]
  },
  {
   "cell_type": "code",
   "execution_count": 126,
   "metadata": {},
   "outputs": [],
   "source": [
    "\n",
    "\n",
    "# sanity-check\n",
    "# browser.visit(featured_image_url)"
   ]
  },
  {
   "cell_type": "code",
   "execution_count": null,
   "metadata": {},
   "outputs": [],
   "source": []
  }
 ],
 "metadata": {
  "kernelspec": {
   "display_name": "Python 3",
   "language": "python",
   "name": "python3"
  },
  "language_info": {
   "codemirror_mode": {
    "name": "ipython",
    "version": 3
   },
   "file_extension": ".py",
   "mimetype": "text/x-python",
   "name": "python",
   "nbconvert_exporter": "python",
   "pygments_lexer": "ipython3",
   "version": "3.6.9"
  }
 },
 "nbformat": 4,
 "nbformat_minor": 2
}

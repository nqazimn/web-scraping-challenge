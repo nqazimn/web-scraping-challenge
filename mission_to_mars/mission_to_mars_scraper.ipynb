{
 "cells": [
  {
   "cell_type": "code",
   "execution_count": 1,
   "metadata": {},
   "outputs": [],
   "source": [
    "import requests\n",
    "from bs4 import BeautifulSoup as bs"
   ]
  },
  {
   "cell_type": "markdown",
   "metadata": {},
   "source": [
    "## 1. Set-up urls to be scraped"
   ]
  },
  {
   "cell_type": "code",
   "execution_count": 2,
   "metadata": {},
   "outputs": [],
   "source": [
    "# Set-up dictionary of all Mars urls to be scraped\n",
    "url_dict = {\"NASA\":\"https://mars.nasa.gov/news/\",\\\n",
    "           \"JPL\":\"https://www.jpl.nasa.gov/spaceimages/?search=&category=Mars\",\\\n",
    "           \"Twitter\":\"https://twitter.com/marswxreport?lang=en\",\\\n",
    "           \"space-facts\":\"https://space-facts.com/mars/\",\\\n",
    "           \"geology\":\"https://astrogeology.usgs.gov/search/results?q=hemisphere+enhanced&k1=target&v1=Mars\"}"
   ]
  },
  {
   "cell_type": "markdown",
   "metadata": {},
   "source": [
    "## 2. Scrape NASA and extract latest news _title_ and _text_"
   ]
  },
  {
   "cell_type": "code",
   "execution_count": 53,
   "metadata": {},
   "outputs": [],
   "source": [
    "response = requests.get(url = url_dict[\"NASA\"])\n",
    "\n",
    "soup = bs(response.text, \"html.parser\")\n",
    "\n",
    "# print(soup.prettify())\n",
    "\n",
    "results = soup.find_all(\"div\", class_ = \"slide\")\n",
    "\n",
    "mars_latest_news = []\n",
    "\n",
    "for result in results:    \n",
    "    try:    \n",
    "        news_title = result.find(\"div\", class_ = \"content_title\").text\n",
    "        news_description = result.find(\"div\", class_ = \"rollover_description_inner\").text\n",
    "\n",
    "        news_dict = {'title':news_title.strip(),\\\n",
    "                    'description':news_description.strip()}\n",
    "\n",
    "        mars_latest_news.append(news_dict)\n",
    "    except AttributeError as e:\n",
    "        print(e)        "
   ]
  },
  {
   "cell_type": "code",
   "execution_count": null,
   "metadata": {},
   "outputs": [],
   "source": []
  }
 ],
 "metadata": {
  "kernelspec": {
   "display_name": "Python 3",
   "language": "python",
   "name": "python3"
  },
  "language_info": {
   "codemirror_mode": {
    "name": "ipython",
    "version": 3
   },
   "file_extension": ".py",
   "mimetype": "text/x-python",
   "name": "python",
   "nbconvert_exporter": "python",
   "pygments_lexer": "ipython3",
   "version": "3.6.9"
  }
 },
 "nbformat": 4,
 "nbformat_minor": 2
}
